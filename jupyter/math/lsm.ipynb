{
 "cells": [
  {
   "cell_type": "code",
   "execution_count": 10,
   "metadata": {},
   "outputs": [],
   "source": [
    "import numpy as np\n",
    "from numpy.polynomial import Polynomial\n",
    "import matplotlib.pyplot as plt\n",
    "import pandas as pd"
   ]
  },
  {
   "cell_type": "code",
   "execution_count": 81,
   "metadata": {},
   "outputs": [
    {
     "name": "stdout",
     "output_type": "stream",
     "text": [
      "[5.      0.      2.5     0.      2.125   0.      2.03125]\n",
      "Enlarged coeffient matrix : \n",
      "[[ 5.       0.       2.5      0.      14.     ]\n",
      " [ 0.       2.5      0.       2.125   -0.215  ]\n",
      " [ 2.5      0.       2.125    0.       6.7525 ]\n",
      " [ 0.       2.125    0.       2.03125 -0.11375]]\n",
      "Sweeped : \n",
      "[[ 1.          0.          0.          0.          2.8       ]\n",
      " [ 0.          1.          0.          0.         -0.086     ]\n",
      " [ 0.          0.          1.          0.          3.17764706]\n",
      " [ 0.          0.          0.          1.         -0.056     ]]\n",
      "s:1.0, t:-165.7\n",
      "Coeffient : \n",
      "[2.8, -0.08599999999999994, 3.1776470588235295, -0.05600000000000001]\n",
      "-0.05600000000000001 : -24.65995294117647 : -3559.704084705883 : -167538.67751388237\n"
     ]
    },
    {
     "data": {
      "text/plain": [
       "array([1.38737162e+06, 2.51658853e+04, 1.52161143e+02, 3.06666667e-01])"
      ]
     },
     "execution_count": 81,
     "metadata": {},
     "output_type": "execute_result"
    }
   ],
   "source": [
    "def LSM(_xdata, _ydata, _coefs, _order):\n",
    "    _a = np.array([[0.0 for j in range(_order + 2)] for i in range(_order + 1)])\n",
    "    _sum_of_powers = np.array([0.0 for i in range(_order * 2 + 1)])\n",
    "    \n",
    "    # Create Enlarged coeffient matrix\n",
    "    for k in range(len(_xdata)):\n",
    "        for i in range(0, (_order * 2) + 1, 1):\n",
    "            _sum_of_powers[i] += pow(_xdata[k], i)\n",
    "        for i in range(_order + 1):\n",
    "            _a[i][_order + 1] += pow(_xdata[k], i) * _ydata[k]\n",
    "    print(_sum_of_powers)\n",
    "    for i in range(_order + 1):\n",
    "        for j in range(_order + 1):\n",
    "            _a[i][j] = _sum_of_powers[i + j]\n",
    "    print('Enlarged coeffient matrix : ')\n",
    "    print(_a)\n",
    "    # Gauss-Jordan method　w/o pivot selection\n",
    "    for k in range(_order + 1):\n",
    "        _pivot = _a[k][k]\n",
    "        for j in range(k, _order + 2):\n",
    "            _a[k][j] /= _pivot\n",
    "        for i in range(_order + 1):\n",
    "            if(k != i):\n",
    "                for j in range(k, _order + 2):\n",
    "                    _a[i][j] -= _a[i][k] * _a[k][j]\n",
    "    for i in range(_order + 1):\n",
    "        _coefs.append(_a[i][_order + 1])\n",
    "        \n",
    "def LSM2(_xdata, _ydata, _coefs, _order):\n",
    "    \"\"\"LSM with scaling xdata process\n",
    "    \"\"\"\n",
    "    _a = np.array([[0.0 for j in range(_order + 2)] for i in range(_order + 1)])\n",
    "    _sum_of_powers = np.array([0.0 for i in range((_order * 2) + 1)])\n",
    "       \n",
    "    # Scaling xdata\n",
    "    _s = 2 / (_xdata.max() - _xdata.min())\n",
    "    _t = _s * _xdata.mean()\n",
    "    _xdata = _s * _xdata - _t\n",
    "    \n",
    "    # Create Enlarged coeffient matrix\n",
    "    for k in range(len(_xdata)):\n",
    "        for i in range(0, (_order * 2) + 1, 1):\n",
    "            _sum_of_powers[i] += pow(_xdata[k], i)\n",
    "        for i in range(_order + 1):\n",
    "            _a[i][_order + 1] += pow(_xdata[k], i) * _ydata[k]\n",
    "    print(_sum_of_powers)\n",
    "    for i in range(_order + 1):\n",
    "        for j in range(_order + 1):\n",
    "            _a[i][j] = _sum_of_powers[i + j]\n",
    "    print('Enlarged coeffient matrix : ')\n",
    "    print(_a)\n",
    "    # Gauss-Jordan method　w/o pivot selection\n",
    "    for k in range(_order + 1):\n",
    "        _pivot = _a[k][k]\n",
    "        for j in range(k, _order + 2):\n",
    "            _a[k][j] /= _pivot\n",
    "        for i in range(_order + 1):\n",
    "            if(k != i):\n",
    "                for j in range(k, _order + 2):\n",
    "                    _a[i][j] -= _a[i][k] * _a[k][j]\n",
    "    for i in range(_order + 1):\n",
    "        _coefs.append(_a[i][_order + 1])\n",
    "    print('Sweeped : ')\n",
    "    print(_a)\n",
    "    print(f's:{s}, t:{t}')\n",
    "    print('Coeffient : ')\n",
    "    print(_coefs)\n",
    "    return _s, _t\n",
    "            \n",
    "xdata = np.array([-166.7 + i * 0.5 for i in range(0, 5, 1)])\n",
    "ydata = np.array([2.7, 3.0, 2.95, 2.73, 2.62])\n",
    "coeff = []\n",
    "# LSM(xdata, ydata, coeff, 3)\n",
    "s, t = LSM2(xdata, ydata, coeff, 3)\n",
    "d0, c0, b0, a0 = coeff\n",
    "a = s**3 * a0\n",
    "b = -3 * s**2 * t * a0 + s ** 2 * b0\n",
    "c = 3 * s * t ** 2 * a0 - 2 * s * t * b0 + s * c0\n",
    "d = -t ** 3 * a0 + t ** 2 * b0 - t * c0 + d0\n",
    "\n",
    "print(f'{a} : {b} : {c} : {d}')\n",
    "\n",
    "x = np.linspace(xdata.min() - 1.0, xdata.max() + 1.0, 1000)\n",
    "y = a * x ** 3 + b * x ** 2 + c * x + d\n",
    "# y = a * (s*x-t) ** 3 + b * (s*x-t) ** 2 + c * (s*x-t) + d\n",
    "W3 = Polynomial.fit(xdata, ydata, 3)\n",
    "W3.convert().coef"
   ]
  },
  {
   "cell_type": "code",
   "execution_count": 82,
   "metadata": {},
   "outputs": [
    {
     "name": "stdout",
     "output_type": "stream",
     "text": [
      "MSE: 2.8571428571429127e-05\n"
     ]
    },
    {
     "data": {
      "image/png": "[encoded data removed]",
      "text/plain": [
       "<Figure size 640x480 with 1 Axes>"
      ]
     },
     "metadata": {},
     "output_type": "display_data"
    }
   ],
   "source": [
    "fig, ax = plt.subplots()\n",
    "ax.scatter(xdata, ydata, marker='o', color='b')\n",
    "ax.plot(x, W3(x), color='r', label='numpy.poly')\n",
    "ax.plot(x, y, color='g', label='LSM')\n",
    "ax.set_xlabel('$x$')\n",
    "ax.set_ylabel('$y$')\n",
    "ax.grid()\n",
    "\n",
    "MSE = np.mean((ydata - W3(xdata)) ** 2)\n",
    "print(f'MSE: {MSE}')"
   ]
  },
  {
   "cell_type": "code",
   "execution_count": null,
   "metadata": {},
   "outputs": [],
   "source": []
  },
  {
   "cell_type": "code",
   "execution_count": null,
   "metadata": {},
   "outputs": [],
   "source": []
  }
 ],
 "metadata": {
  "kernelspec": {
   "display_name": "Python 3",
   "language": "python",
   "name": "python3"
  },
  "language_info": {
   "codemirror_mode": {
    "name": "ipython",
    "version": 3
   },
   "file_extension": ".py",
   "mimetype": "text/x-python",
   "name": "python",
   "nbconvert_exporter": "python",
   "pygments_lexer": "ipython3",
   "version": "3.7.1"
  }
 },
 "nbformat": 4,
 "nbformat_minor": 2
}
