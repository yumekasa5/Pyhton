{
 "cells": [
  {
   "cell_type": "code",
   "execution_count": 1,
   "metadata": {},
   "outputs": [],
   "source": [
    "import numpy as np\n",
    "from numpy.polynomial import Polynomial\n",
    "import matplotlib.pyplot as plt\n",
    "import pandas as pd"
   ]
  },
  {
   "cell_type": "code",
   "execution_count": 15,
   "metadata": {},
   "outputs": [],
   "source": [
    "def LSM2(_xdata, _ydata, _coefs, _order):\n",
    "    \"\"\"LSM with scaling xdata process\n",
    "    \"\"\"\n",
    "    _a = np.array([[0.0 for j in range(_order + 2)] for i in range(_order + 1)])\n",
    "    _sum_of_powers = np.array([0.0 for i in range((_order * 2) + 1)])\n",
    "       \n",
    "    # Scaling xdata\n",
    "    _s = 2 / (_xdata.max() - _xdata.min())\n",
    "    _t = _s * _xdata.mean()\n",
    "    _xdata = _s * _xdata - _t\n",
    "    \n",
    "    # Create Enlarged coeffient matrix\n",
    "    for k in range(len(_xdata)):\n",
    "        for i in range(0, (_order * 2) + 1, 1):\n",
    "            _sum_of_powers[i] += pow(_xdata[k], i)\n",
    "        for i in range(_order + 1):\n",
    "            _a[i][_order + 1] += pow(_xdata[k], i) * _ydata[k]\n",
    "    print(_sum_of_powers)\n",
    "    for i in range(_order + 1):\n",
    "        for j in range(_order + 1):\n",
    "            _a[i][j] = _sum_of_powers[i + j]\n",
    "    print('Enlarged coeffient matrix : ')\n",
    "    print(_a)\n",
    "    # Gauss-Jordan method　w/o pivot selection\n",
    "    for k in range(_order + 1):\n",
    "        _pivot = _a[k][k]\n",
    "        for j in range(k, _order + 2):\n",
    "            _a[k][j] /= _pivot\n",
    "        for i in range(_order + 1):\n",
    "            if(k != i):\n",
    "                for j in range(k, _order + 2):\n",
    "                    _a[i][j] -= _a[i][k] * _a[k][j]\n",
    "    for i in range(_order + 1):\n",
    "        _coefs.append(_a[i][_order + 1])\n",
    "    print('Sweeped : ')\n",
    "    print(_a)\n",
    "    print(f's:{s}, t:{t}')\n",
    "    print('Coeffient : ')\n",
    "    print(_coefs)\n",
    "    return _s, _t"
   ]
  },
  {
   "cell_type": "code",
   "execution_count": 55,
   "metadata": {},
   "outputs": [
    {
     "name": "stdout",
     "output_type": "stream",
     "text": [
      "Enlarged coeffient matrix : \n",
      "[[  5.         8.5       16.95      37.315     82.      ]\n",
      " [  8.5       16.95      37.315     87.2355    71.185   ]\n",
      " [ 16.95      37.315     87.2355   211.88035   79.8015  ]\n",
      " [ 37.315     87.2355   211.88035  528.041595 124.56595 ]]\n",
      "Sweeped : \n",
      "[[ 1.          0.          0.          0.         16.4       ]\n",
      " [ 0.          1.          0.          0.          4.19970501]\n",
      " [ 0.          0.          1.          0.          0.9147824 ]\n",
      " [ 0.          0.          0.          1.          0.23590178]]\n",
      "[ 311.13122286 -510.54710476  268.21028571  -45.02666667]\n"
     ]
    }
   ],
   "source": [
    "def LSM(_xdata, _ydata, _order):\n",
    "    _coefs = []\n",
    "    _a = np.array([[0.0 for j in range(_order + 2)] for i in range(_order + 1)])\n",
    "    _sum_of_powers = np.array([0.0 for i in range(_order * 2 + 1)])\n",
    "    _right = [0.0 for i in range(_order + 1)]\n",
    "    \n",
    "    # Create Enlarged coeffient matrix\n",
    "    for i in range(len(_xdata)):\n",
    "        for j in range((_order * 2) + 1):\n",
    "            _sum_of_powers[j] += pow(_xdata[i], j)\n",
    "        for j in range(_order + 1):\n",
    "            _right[j] += (pow(_xdata[i], j) * _ydata[i])\n",
    "    # print(_sum_of_powers)\n",
    "    for i in range(_order + 1):\n",
    "        for j in range(_order + 1):\n",
    "            _a[i][j] = _sum_of_powers[i + j]\n",
    "        _a[i][_order + 1] = _right[i]\n",
    "    print('Enlarged coeffient matrix : ')\n",
    "    print(_a)\n",
    "    \n",
    "    # Gauss-Jordan method　w/o pivot selection\n",
    "    for k in range(_order + 1):\n",
    "        _pivot = _a[k][k]\n",
    "        for j in range(k, _order + 2):\n",
    "            _a[k][j] /= _pivot\n",
    "        for i in range(_order + 1):\n",
    "            if i != k:\n",
    "                for j in range(k, _order + 1):\n",
    "                    _a[i][j] -= (_a[i][k] * _a[k][j])\n",
    "    for i in range(_order + 1):\n",
    "        _coefs.append(_a[i][_order + 1])\n",
    "    print('Sweeped : ')\n",
    "    print(_a)\n",
    "    return _coefs\n",
    "            \n",
    "# xdata = np.array([-166.7 + i * 0.5 for i in range(0, 5, 1)])\n",
    "xdata = np.array([0.7 + i * 0.5 for i in range(0, 5, 1)])\n",
    "ydata = np.array([70.7, 3.0, 2.95, 2.73, 2.62])\n",
    "coefs = LSM(xdata, ydata, 3)\n",
    "# s, t = LSM2(xdata, ydata, coeff, 3)\n",
    "d, c, b, a = coefs\n",
    "# a = s**3 * a0\n",
    "# b = -3 * s**2 * t * a0 + s ** 2 * b0\n",
    "# c = 3 * s * t ** 2 * a0 - 2 * s * t * b0 + s * c0\n",
    "# d = -t ** 3 * a0 + t ** 2 * b0 - t * c0 + d0\n",
    "# print(f'{a} : {b} : {c} : {d}')\n",
    "\n",
    "x = np.linspace(xdata.min() - 1.0, xdata.max() + 1.0, 1000)\n",
    "y = a * x * x * x + b * x * x + c * x + d\n",
    "# y = a * (s*x-t) ** 3 + b * (s*x-t) ** 2 + c * (s*x-t) + d\n",
    "W3 = Polynomial.fit(xdata, ydata, 3)\n",
    "print(W3.convert().coef)\n",
    "y_hat = W3(x)"
   ]
  },
  {
   "cell_type": "code",
   "execution_count": 57,
   "metadata": {},
   "outputs": [
    {
     "data": {
      "image/png": "[encoded data removed]",
      "text/plain": [
       "<Figure size 640x480 with 1 Axes>"
      ]
     },
     "metadata": {},
     "output_type": "display_data"
    },
    {
     "name": "stdout",
     "output_type": "stream",
     "text": [
      "MSE: 13.250314285714301\n",
      "[0.7 1.2 1.7 2.2 2.7]\n",
      "[70.7   3.    2.95  2.73  2.62]\n"
     ]
    }
   ],
   "source": [
    "fig, ax = plt.subplots()\n",
    "ax.scatter(xdata, ydata, marker='o', color='b')\n",
    "ax.plot(x, W3(x), color='r', label='numpy.poly')\n",
    "ax.plot(x, y, color='g', label='LSM')\n",
    "ax.set_xlabel('$x$')\n",
    "ax.set_ylabel('$y$')\n",
    "# ax.set_ylim([0,20])\n",
    "ax.grid()\n",
    "ax.legend()\n",
    "plt.show()\n",
    "MSE = np.mean((ydata - W3(xdata)) ** 2)\n",
    "print(f'MSE: {MSE}')\n",
    "plt.close()\n",
    "print(xdata)\n",
    "print(ydata)"
   ]
  },
  {
   "cell_type": "markdown",
   "metadata": {},
   "source": [
    "### Test Case\n",
    "- Case1\n",
    "    - MSE: 2.8571428571429127e-05\n",
    "    - [-166.7 -166.2 -165.7 -165.2 -164.7]\n",
    "    - [2.7  3.   2.95 2.73 2.62]\n",
    "- Case2\n",
    "    - MSE: 2.8571428571429127e-05\n",
    "    - [-100.7 -100.2  -99.7  -99.2  -98.7]\n",
    "    - [2.7  3.   2.95 2.73 2.62]\n",
    "- Case3\n",
    "    - MSE: 2.8571428571429127e-05\n",
    "    - [10.7 11.2 11.7 12.2 12.7]\n",
    "    - [2.7  3.   2.95 2.73 2.62]\n",
    "- Case4\n",
    "    - MSE: 2.8571428571429127e-05\n",
    "    - [1.7 2.2 2.7 3.2 3.7]\n",
    "    - [2.7  3.   2.95 2.73 2.62]\n",
    "- Case5\n",
    "    - MSE: 13.250314285714301\n",
    "    - [0.7 1.2 1.7 2.2 2.7]\n",
    "    - [70.7   3.    2.95  2.73  2.62]"
   ]
  },
  {
   "cell_type": "code",
   "execution_count": null,
   "metadata": {},
   "outputs": [],
   "source": []
  }
 ],
 "metadata": {
  "kernelspec": {
   "display_name": "Python 3",
   "language": "python",
   "name": "python3"
  },
  "language_info": {
   "codemirror_mode": {
    "name": "ipython",
    "version": 3
   },
   "file_extension": ".py",
   "mimetype": "text/x-python",
   "name": "python",
   "nbconvert_exporter": "python",
   "pygments_lexer": "ipython3",
   "version": "3.7.1"
  }
 },
 "nbformat": 4,
 "nbformat_minor": 2
}
