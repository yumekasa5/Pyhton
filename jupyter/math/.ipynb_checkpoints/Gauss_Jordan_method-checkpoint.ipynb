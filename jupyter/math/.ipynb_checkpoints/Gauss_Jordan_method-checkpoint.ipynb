{
 "cells": [
  {
   "cell_type": "markdown",
   "id": "81503b3e",
   "metadata": {},
   "source": [
    "# Gauss-Jordan method"
   ]
  },
  {
   "cell_type": "markdown",
   "id": "7c11f644",
   "metadata": {},
   "source": [
    "## Gauss-Jordan method(pivot selection)"
   ]
  },
  {
   "cell_type": "code",
   "execution_count": 1,
   "id": "3efa6e81",
   "metadata": {},
   "outputs": [
    {
     "name": "stdout",
     "output_type": "stream",
     "text": [
      "x1=2.000000\n",
      "x2=-1.000000\n",
      "x3=3.000000\n"
     ]
    }
   ],
   "source": [
    "N = 3\n",
    "a = [[2.0, 3.0, 1.0, 4.0],\n",
    "     [4.0, 1.0, -3.0, -2.0],\n",
    "     [-1.0, 2.0, 2.0, 2.0]]\n",
    "\n",
    "for k in range(N):\n",
    "    Max, s = 0, k\n",
    "    for j in range(k, N):    # pivot列の中で絶対位置が大きい行を探す\n",
    "        if abs(a[j][k]) > Max:\n",
    "            Max = abs(a[j][k])\n",
    "            s = j            # 行をsにメモ\n",
    "        if Max == 0:\n",
    "            break\n",
    "    for j in range(N + 1): # 列方向に操作してpivot行とs行の要素を交換する\n",
    "        a[k][j], a[s][j] = a[s][j], a[k][j]\n",
    "        \n",
    "    p = a[k][k]            # pivot係数\n",
    "    for j in range(k, N + 1):    # pivot行をpで割る\n",
    "        a[k][j] /= p\n",
    "    for i in range(N):    # pivot列の掃き出し\n",
    "        if i != k:\n",
    "            d = a[i][k]\n",
    "            for j in range(k, N + 1):\n",
    "                a[i][j] -= d * a[k][j]\n",
    "                \n",
    "if Max == 0:\n",
    "    print(\"Can not solve.\")\n",
    "else:\n",
    "    for k in range(N):\n",
    "        print(\"x{:d}={:f}\".format(k + 1, a[k][N]))"
   ]
  },
  {
   "cell_type": "code",
   "execution_count": null,
   "id": "6acd1df9",
   "metadata": {},
   "outputs": [],
   "source": []
  }
 ],
 "metadata": {
  "kernelspec": {
   "display_name": "Python 3 (ipykernel)",
   "language": "python",
   "name": "python3"
  },
  "language_info": {
   "codemirror_mode": {
    "name": "ipython",
    "version": 3
   },
   "file_extension": ".py",
   "mimetype": "text/x-python",
   "name": "python",
   "nbconvert_exporter": "python",
   "pygments_lexer": "ipython3",
   "version": "3.7.1"
  }
 },
 "nbformat": 4,
 "nbformat_minor": 5
}
