{
 "cells": [
  {
   "cell_type": "markdown",
   "metadata": {},
   "source": [
    "## ReportLab sample"
   ]
  },
  {
   "cell_type": "code",
   "execution_count": 2,
   "metadata": {},
   "outputs": [],
   "source": [
    "import os\n",
    "import datetime\n",
    "import numpy as np\n",
    "import pandas as pd\n",
    "import matplotlib.pyplot as plt\n",
    "from reportlab.pdfgen import canvas\n",
    "from reportlab.lib.pagesizes import A4, portrait\n",
    "from reportlab.pdfbase import pdfmetrics\n",
    "from reportlab.pdfbase.ttfonts import TTFont"
   ]
  },
  {
   "cell_type": "code",
   "execution_count": 6,
   "metadata": {},
   "outputs": [],
   "source": [
    "# ユーザのデスクトップのディレクトリを取得\n",
    "file = \"sample.pdf\"\n",
    "file_path = os.path.expanduser(\"~\") + \"/Desktop/\" + file\n",
    "\n",
    "# A4の新規PDFファイルを作成\n",
    "page = canvas.Canvas(file_path, pagesize=portrait(A4))\n",
    "\n",
    "# フォントの読み込み\n",
    "pdfmetrics.registerFont(TTFont(\"HGRGE\", \"C:/Windows/Fonts/seguisym.ttf\"))\n",
    "pdfmetrics.registerFont(TTFont(\"HGRME\", \"C:/Windows/Fonts/seguisym.ttf\"))\n",
    "\n",
    "# フォントの設定(第1引数：フォント、第2引数：サイズ)\n",
    "page.setFont(\"HGRGE\", 20)\n",
    "\n",
    "# 指定座標が左端となるように文字を挿入\n",
    "page.drawString(0, 0, \"Hello World!\")\n",
    "\n",
    "# 指定座標が中心となるように文字を挿入\n",
    "page.drawCentredString(200, 200, \"Hello World!\")\n",
    "\n",
    "# 指定座標が右端となるように文字を挿入\n",
    "page.drawRightString(200, 100, \"Hello World!\")\n",
    "# 改ページ\n",
    "page.showPage()\n",
    "\n",
    "page.drawString(200, 300, \"reportlab\")\n",
    "\n",
    "# PDFファイルとして保存\n",
    "page.save()\n"
   ]
  },
  {
   "cell_type": "code",
   "execution_count": 8,
   "metadata": {},
   "outputs": [
    {
     "name": "stdout",
     "output_type": "stream",
     "text": [
      "I am Mark. I am 25 years old.\n"
     ]
    }
   ],
   "source": [
    "from jinja2 import  Template\n",
    "\n",
    "tpl_text = 'I am {{name}}. I am {{age}} years old.'\n",
    "template = Template(tpl_text)\n",
    "\n",
    "data = {'name': 'Mark', 'age': '25'}\n",
    "disp_text = template.render(data)\n",
    "print(disp_text)"
   ]
  },
  {
   "cell_type": "code",
   "execution_count": 22,
   "metadata": {},
   "outputs": [],
   "source": [
    "import json\n",
    "\n",
    "str = {\n",
    "    'name'      : 'Mark',\n",
    "    'age'       : '25',\n",
    "    'GodName1'  : 'Gauss',\n",
    "    'GodName2'  : 'Netown',\n",
    "    'GodName3'  : 'Laplace',\n",
    "    'Role1'     : 'Mathmatician',\n",
    "    'Role2'     : 'Physician',\n",
    "    'Role3'     : 'Engineer'\n",
    "}\n",
    "\n",
    "os.makedirs('./templates', exist_ok=True)\n",
    "with open('./templates/parameter_01.json', 'w') as f:\n",
    "    json.dump(str, f, ensure_ascii=False)"
   ]
  },
  {
   "cell_type": "code",
   "execution_count": 24,
   "metadata": {},
   "outputs": [
    {
     "name": "stdout",
     "output_type": "stream",
     "text": [
      "<html>\n",
      "    <h2> jinja2 test </h2>\n",
      "    This is jinja2.\n",
      "    I am Mark. I am 25 old.\n",
      "    <body>\n",
      "        <table border=1>\n",
      "            <tr>\n",
      "                <th>Name</th>\n",
      "                <th>Role</th>\n",
      "            </tr>\n",
      "\n",
      "            <tr>\n",
      "                <td>Gauss</td>\n",
      "                <td>Mathmatician</td>\n",
      "            </tr>\n",
      "\n",
      "            <tr>\n",
      "                <td>Netown</td>\n",
      "                <td>Physician</td>\n",
      "            </tr>\n",
      "\n",
      "            <tr>\n",
      "                <td>Laplace</td>\n",
      "                <td>Engineer</td>\n",
      "            </tr>\n",
      "        </table>\n",
      "    </body>\n",
      "</html>\n"
     ]
    }
   ],
   "source": [
    "from jinja2 import Template, Environment, FileSystemLoader\n",
    "import json\n",
    " \n",
    "#テンプレート読み込み\n",
    "env = Environment(loader=FileSystemLoader('./templates', encoding='utf8'))\n",
    "template = env.get_template('sample_01.txt')\n",
    " \n",
    "#パラメータファイル読み込み\n",
    "with open('./templates/parameter_01.json') as f:\n",
    "    parameters = json.load(f)\n",
    " \n",
    "#レンダリングして出力\n",
    "rendered = template.render(parameters)\n",
    "print(rendered)\n",
    " \n",
    "#レンダリングしてhtml出力\n",
    "os.makedirs('./results', exist_ok=True)\n",
    "rendered_html = template.render(parameters)\n",
    "with open('./results/result_01.html', 'w') as f:\n",
    "    f.write(rendered_html)"
   ]
  },
  {
   "cell_type": "code",
   "execution_count": null,
   "metadata": {},
   "outputs": [],
   "source": []
  }
 ],
 "metadata": {
  "kernelspec": {
   "display_name": "Python 3",
   "language": "python",
   "name": "python3"
  },
  "language_info": {
   "codemirror_mode": {
    "name": "ipython",
    "version": 3
   },
   "file_extension": ".py",
   "mimetype": "text/x-python",
   "name": "python",
   "nbconvert_exporter": "python",
   "pygments_lexer": "ipython3",
   "version": "3.7.1"
  }
 },
 "nbformat": 4,
 "nbformat_minor": 2
}
