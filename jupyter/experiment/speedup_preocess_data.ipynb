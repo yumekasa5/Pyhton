{
 "cells": [
  {
   "cell_type": "markdown",
   "metadata": {},
   "source": [
    "# Pandasにおけるデータ読込高速化\n",
    "- Language\n",
    "    - Python\n",
    "\n",
    "- How to process large dataset with high speed and saving memory usage\n",
    "    - specify data types\n",
    "    - use 'chunksize' option in read_csv function\n",
    "    - specify columns only to use\n",
    "    - delete unnecessary columns and pandas DataFrame\n",
    "\n",
    "- 参考にした記事：\n",
    "    - https://cream-kuchen.hatenablog.com/entry/how_to_speedup_python_pandas_data_process\n",
    "    - https://acro-engineer.hatenablog.com/entry/2022/12/12/124822"
   ]
  },
  {
   "cell_type": "code",
   "execution_count": 1,
   "metadata": {},
   "outputs": [],
   "source": [
    "# import fundamental packages\n",
    "import pandas as pd\n",
    "import numpy as np"
   ]
  },
  {
   "cell_type": "markdown",
   "metadata": {},
   "source": [
    "- pandasのデータフレームのレコードに合わせて各カラムの型を適切なサイズまで小さくする"
   ]
  },
  {
   "cell_type": "code",
   "execution_count": 5,
   "metadata": {},
   "outputs": [],
   "source": [
    "def reduce_mem_usage(df, verbose=True):\n",
    "    numerics = ['int16', 'int32', 'int64', 'float16', 'float32', 'float64']\n",
    "#     start_mem = df.memory_usage().sum() / 1024**2\n",
    "    for col in df.columns:\n",
    "        col_type = df[col].dtypes\n",
    "        if col_type in numerics:\n",
    "            c_min = df[col].min()\n",
    "            c_max = df[col].max()\n",
    "            if str(col_type)[:3] == 'int':\n",
    "                if c_min > np.iinfo(np.int8).min and c_max < np.iinfo(np.int8).max:\n",
    "                    df[col] = df[col].astype(np.int8)\n",
    "                elif c_min > np.iinfo(np.int16).min and c_max < np.iinfo(np.int16).max:\n",
    "                    df[col] = df[col].astype(np.int16)\n",
    "                elif c_min > np.iinfo(np.int32).min and c_max < np.iinfo(np.int32).max:\n",
    "                    df[col] = df[col].astype(np.int32)\n",
    "                elif c_min > np.iinfo(np.int64).min and c_max < np.iinfo(np.int64).max:\n",
    "                    df[col] = df[col].astype(np.int64)\n",
    "            else:\n",
    "                if c_min > np.finfo(np.float16).min and c_max < np.finfo(np.float16).max:\n",
    "                    df[col] = df[col].astype(np.float16)\n",
    "                elif c_min > np.finfo(np.float32).min and c_max < np.finfo(np.float32).max:\n",
    "                    df[col] = df[col].astype(np.float32)\n",
    "                else:\n",
    "                    df[col] = df[col].astype(np.float64)\n",
    "#     end_mem = df.memory_usage().sum() / 1024**2\n",
    "#     if verbose: print('Mem. usage decreased to {:5.2f} Mb ({:.1f}% reduction)'.format(end_mem, 100 * (start_mem - end_mem) / start_mem))\n",
    "    return df"
   ]
  },
  {
   "cell_type": "markdown",
   "metadata": {},
   "source": [
    "## Read sample dataset"
   ]
  },
  {
   "cell_type": "markdown",
   "metadata": {},
   "source": [
    "### Usual reading method"
   ]
  },
  {
   "cell_type": "code",
   "execution_count": 16,
   "metadata": {},
   "outputs": [
    {
     "name": "stdout",
     "output_type": "stream",
     "text": [
      "Memory usage of DataFrame: 1.23 MB\n"
     ]
    }
   ],
   "source": [
    "inpath = './data/AirQualityUCI.csv'\n",
    "df0 = pd.read_csv(inpath, sep=';')\n",
    "memory_size = df0.memory_usage().sum() / (1024**2)               # pandasが使用するメモリサイズ[MB]\n",
    "print(f\"Memory usage of DataFrame: {memory_size:.2f} MB\")"
   ]
  },
  {
   "cell_type": "markdown",
   "metadata": {},
   "source": [
    "### Sequential reading"
   ]
  },
  {
   "cell_type": "code",
   "execution_count": 17,
   "metadata": {},
   "outputs": [
    {
     "name": "stdout",
     "output_type": "stream",
     "text": [
      "Memory usage of DataFrame: 0.79 MB\n"
     ]
    }
   ],
   "source": [
    "def split_reader(inpath, size):\n",
    "    reader = pd.read_csv(inpath, chunksize=size, sep=\";\")\n",
    "    df = pd.concat((reduce_mem_usage(r) for r in reader), ignore_index=True)\n",
    "    return df\n",
    "\n",
    "inpath = \"./data/AirQualityUCI.csv\"                             # csvファイルのパス\n",
    "size = 1000000                                                  # 読み込むレコードの単位\n",
    "df = split_reader(inpath, size)\n",
    "df.head()\n",
    "memory_size = df.memory_usage().sum() / (1024**2)               # pandasが使用するメモリサイズ[MB]\n",
    "print(f\"Memory usage of DataFrame: {memory_size:.2f} MB\")"
   ]
  },
  {
   "cell_type": "code",
   "execution_count": null,
   "metadata": {},
   "outputs": [],
   "source": []
  }
 ],
 "metadata": {
  "kernelspec": {
   "display_name": "Python 3",
   "language": "python",
   "name": "python3"
  },
  "language_info": {
   "codemirror_mode": {
    "name": "ipython",
    "version": 3
   },
   "file_extension": ".py",
   "mimetype": "text/x-python",
   "name": "python",
   "nbconvert_exporter": "python",
   "pygments_lexer": "ipython3",
   "version": "3.7.1"
  }
 },
 "nbformat": 4,
 "nbformat_minor": 2
}
