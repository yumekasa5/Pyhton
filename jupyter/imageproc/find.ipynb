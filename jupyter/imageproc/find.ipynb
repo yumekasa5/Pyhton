{
 "cells": [
  {
   "cell_type": "code",
   "execution_count": 1,
   "metadata": {},
   "outputs": [],
   "source": [
    "import glob\n",
    "import math\n",
    "import os\n",
    "import sys\n",
    "\n",
    "import cv2\n",
    "import matplotlib.pyplot as plt\n",
    "import numpy as np\n",
    "import pandas as pd\n",
    "import skimage.measure as ski\n",
    "import re\n",
    "\n",
    "from pathlib import Path\n",
    "cur_dir = Path().resolve()\n",
    "sys.path.append(str(cur_dir) + \"/module\")"
   ]
  },
  {
   "attachments": {},
   "cell_type": "markdown",
   "metadata": {},
   "source": [
    "#### グラフの線種を決定するジェネレータ"
   ]
  },
  {
   "cell_type": "code",
   "execution_count": 1,
   "metadata": {},
   "outputs": [],
   "source": [
    "def linestyle_generator():\n",
    "    linestyle = ['-', '--', '-', ':']\n",
    "    lineID = 0\n",
    "    while True:\n",
    "        yield linestyle[lineID]\n",
    "        lineID = (lineID + 1) % len(linestyle)"
   ]
  },
  {
   "attachments": {},
   "cell_type": "markdown",
   "metadata": {},
   "source": [
    "#### 画像表示用"
   ]
  },
  {
   "cell_type": "code",
   "execution_count": 3,
   "metadata": {},
   "outputs": [],
   "source": [
    "def imshow_set(fig_ax, *args):\n",
    "    fig_ax.set_title(args[0])\n",
    "    fig_ax.imshow(args[1])"
   ]
  },
  {
   "cell_type": "code",
   "execution_count": 2,
   "metadata": {},
   "outputs": [],
   "source": [
    "def fitCircle(contour):\n",
    "    '''\n",
    "    座標の円近似（最小二乗円）\n",
    "    '''\n",
    "\n",
    "    matA = []\n",
    "    matB = []\n",
    "\n",
    "    for point in contour:\n",
    "        x = point[0,0]\n",
    "        y = point[0,1]\n",
    "        matA.append([x,y,1])\n",
    "        matB.append([-x*x -y*y])\n",
    "\n",
    "    # listからndarrayへ変換\n",
    "    matA = np.array(matA, np.float32)\n",
    "    matB = np.array(matB, np.float32)\n",
    "\n",
    "    # 疑似逆行列を求める\n",
    "    matA_pinv = np.linalg.pinv(matA)\n",
    "\n",
    "    # 行列の解\n",
    "    matX = matA_pinv.dot(matB)\n",
    "\n",
    "    # 中心座標\n",
    "    a = -matX[0,0]/2\n",
    "    b = -matX[1,0]/2\n",
    "    # 半径\n",
    "    r = np.sqrt(a*a+b*b-matX[2,0])\n",
    "\n",
    "    # 中心座標, 半径\n",
    "    return (a, b), r  "
   ]
  },
  {
   "cell_type": "code",
   "execution_count": null,
   "metadata": {},
   "outputs": [],
   "source": [
    "# 8ビット1チャンネルのグレースケールとして画像を読み込む\n",
    "img = cv2.imread(\"image.jpg\", cv2.IMREAD_GRAYSCALE) \n",
    "\n",
    "# 白黒反転して二値化\n",
    "ret, img = cv2.threshold(img, 128, 255, cv2.THRESH_BINARY_INV)\n",
    "\n",
    "# 一番外側の輪郭のみを取得\n",
    "contours, hierarchy = cv2.findContours(img, cv2.RETR_EXTERNAL, cv2.CHAIN_APPROX_NONE ) \n",
    "\n",
    "# 画像表示用に入力画像をカラーデータに変換する\n",
    "img_disp = cv2.cvtColor(img, cv2.COLOR_GRAY2BGR)\n",
    "\n",
    "# 全ての輪郭を描画\n",
    "cv2.drawContours(img_disp, contours, -1, (0, 0, 255), 2)\n",
    "\n",
    "# 輪郭の点の描画\n",
    "for contour in contours:\n",
    "    # 円近似\n",
    "    center, r = fitCircle(contour)\n",
    "    # 近似円を描画\n",
    "    cv2.circle(img_disp, np.intp(center), int(r), (255, 0, 0), 2)\n",
    "\n",
    "cv2.imshow(\"Image\", img_disp)\n",
    "\n",
    "# キー入力待ち(ここで画像が表示される)\n",
    "cv2.waitKey()"
   ]
  }
 ],
 "metadata": {
  "kernelspec": {
   "display_name": "Python 3",
   "language": "python",
   "name": "python3"
  },
  "language_info": {
   "codemirror_mode": {
    "name": "ipython",
    "version": 3
   },
   "file_extension": ".py",
   "mimetype": "text/x-python",
   "name": "python",
   "nbconvert_exporter": "python",
   "pygments_lexer": "ipython3",
   "version": "3.7.1"
  },
  "orig_nbformat": 4
 },
 "nbformat": 4,
 "nbformat_minor": 2
}
